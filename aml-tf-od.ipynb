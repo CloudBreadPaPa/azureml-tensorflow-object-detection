{
 "cells": [
  {
   "cell_type": "code",
   "execution_count": null,
   "metadata": {},
   "outputs": [],
   "source": [
    "import azureml.core\n",
    "from azureml.core import Workspace\n",
    "print(azureml.core.VERSION)"
   ]
  },
  {
   "cell_type": "code",
   "execution_count": null,
   "metadata": {},
   "outputs": [],
   "source": [
    "# notebook env value\n",
    "subscription_id = '<SUBSCRIPTION_ID>'\n",
    "acr_server = \"<ACR_NAME>.azurecr.io\"\n",
    "acr_login = \"<ACR_NAME>\"\n",
    "acr_pwd = \"<ACR_PWD>\"\n",
    "acr_repo_name = \"dw-tf-od:v1-gpu\""
   ]
  },
  {
   "cell_type": "code",
   "execution_count": null,
   "metadata": {},
   "outputs": [],
   "source": [
    "# create workspace\n",
    "from azureml.core import Workspace\n",
    "ws = Workspace.create(name='dw-ws',\n",
    "                      subscription_id=subscription_id,\n",
    "                      resource_group='rg-aml-tf-od',\n",
    "                      create_resource_group=True,\n",
    "                      location='westus2' \n",
    "                     )\n",
    "\n",
    "# Create the configuration file.\n",
    "ws.write_config()"
   ]
  },
  {
   "cell_type": "code",
   "execution_count": null,
   "metadata": {},
   "outputs": [],
   "source": [
    "# setup workspace - reloading\n",
    "ws = Workspace.from_config()\n",
    "ws.get_details()"
   ]
  },
  {
   "cell_type": "code",
   "execution_count": null,
   "metadata": {},
   "outputs": [],
   "source": [
    "# setup datastore\n",
    "ds = ws.get_default_datastore()\n",
    "ds.name"
   ]
  },
  {
   "cell_type": "code",
   "execution_count": null,
   "metadata": {},
   "outputs": [],
   "source": [
    "# upload data folder to ds\n",
    "ds.upload(\n",
    "    src_dir='./upload_data',\n",
    "    target_path='tfdata',\n",
    "    overwrite=True)"
   ]
  },
  {
   "cell_type": "code",
   "execution_count": null,
   "metadata": {},
   "outputs": [],
   "source": [
    "# train remote VM - gpu\n",
    "from azureml.core.compute import AmlCompute, ComputeTarget\n",
    "from azureml.core.compute_target import ComputeTargetException\n",
    "\n",
    "try:\n",
    "    compute_target = ComputeTarget(workspace=ws, name='dw-gpu')\n",
    "    print('found existing:', compute_target.name)\n",
    "except ComputeTargetException:\n",
    "    print('creating new.')\n",
    "    compute_config = AmlCompute.provisioning_configuration(\n",
    "        vm_size='STANDARD_NC6',\n",
    "        min_nodes=0,\n",
    "        max_nodes=1)\n",
    "    compute_target = ComputeTarget.create(ws, 'dw-gpu', compute_config)\n",
    "    compute_target.wait_for_completion(show_output=True)"
   ]
  },
  {
   "cell_type": "code",
   "execution_count": null,
   "metadata": {},
   "outputs": [],
   "source": [
    "# train remote VM - cpu\n",
    "\"\"\"from azureml.core.compute import AmlCompute, ComputeTarget\n",
    "from azureml.core.compute_target import ComputeTargetException\n",
    "\n",
    "try:\n",
    "    compute_target = ComputeTarget(workspace=ws, name='dw-cpu')\n",
    "    print('found existing:', compute_target.name)\n",
    "except ComputeTargetException:\n",
    "    print('creating new.')\n",
    "    compute_config = AmlCompute.provisioning_configuration(\n",
    "        vm_size='STANDARD_D3_V2',\n",
    "        min_nodes=0,\n",
    "        max_nodes=1)\n",
    "    compute_target = ComputeTarget.create(ws, 'dw-cpu', compute_config)\n",
    "    compute_target.wait_for_completion(show_output=True)\n",
    "\"\"\""
   ]
  },
  {
   "cell_type": "code",
   "execution_count": null,
   "metadata": {},
   "outputs": [],
   "source": [
    "# data reference\n",
    "from azureml.core import Datastore\n",
    "from azureml.core.runconfig import DataReferenceConfiguration\n",
    "\n",
    "ds = Datastore.get(ws, datastore_name=\"workspaceblobstore\")\n",
    "\n",
    "dr_conf = DataReferenceConfiguration(\n",
    "    datastore_name=ds.name,\n",
    "    path_on_datastore='tfdata',\n",
    "    #path_on_compute = '/tfdata'\n",
    "    mode='mount') # or 'download'"
   ]
  },
  {
   "cell_type": "code",
   "execution_count": null,
   "metadata": {},
   "outputs": [],
   "source": [
    "from azureml.core import Experiment\n",
    "from azureml.core import Run\n",
    "from azureml.core import ScriptRunConfig"
   ]
  },
  {
   "cell_type": "code",
   "execution_count": null,
   "metadata": {},
   "outputs": [],
   "source": [
    "# setup azure container registry\n",
    "from azureml.core.runconfig import ContainerRegistry\n",
    "\n",
    "base_docker_image = ContainerRegistry()\n",
    "base_docker_image.address = acr_server\n",
    "base_docker_image.username = acr_login\n",
    "base_docker_image.password = acr_pwd\n",
    "tf_od_docker_image = acr_server + '/' + acr_repo_name"
   ]
  },
  {
   "cell_type": "code",
   "execution_count": null,
   "metadata": {},
   "outputs": [],
   "source": [
    "# generate run config\n",
    "from azureml.core.runconfig import RunConfiguration, DEFAULT_GPU_IMAGE\n",
    "from azureml.core.conda_dependencies import CondaDependencies\n",
    "\n",
    "run_config = RunConfiguration()\n",
    "run_config.environment.docker.enabled = True\n",
    "run_config.environment.docker.gpu_support = True #cpu, set False\n",
    "run_config.environment.docker.base_image = tf_od_docker_image\n",
    "run_config.environment.docker.base_image_registry = base_docker_image\n",
    "run_config.data_references = {ds.name: dr_conf}\n",
    "run_config.environment.python.user_managed_dependencies = True\n",
    "\n",
    "run_config.target = compute_target.name\n",
    "compute_target.name"
   ]
  },
  {
   "cell_type": "code",
   "execution_count": null,
   "metadata": {
    "scrolled": false
   },
   "outputs": [],
   "source": [
    "# run experiment\n",
    "src = ScriptRunConfig(\n",
    "    source_directory='./script',\n",
    "    script='launcher.py',\n",
    "    run_config=run_config,\n",
    "    arguments=['--data_folder', str(ds.as_mount())] # only one param - data store mount dir\n",
    ")\n",
    "exp = Experiment(workspace=ws, name='dw-tf_remote_experiment_0417')\n",
    "run = exp.submit(config=src)\n",
    "run.wait_for_completion(show_output=True)\n"
   ]
  },
  {
   "cell_type": "code",
   "execution_count": null,
   "metadata": {},
   "outputs": [],
   "source": [
    "# status check\n",
    "run.get_status()"
   ]
  },
  {
   "cell_type": "code",
   "execution_count": null,
   "metadata": {},
   "outputs": [],
   "source": [
    "# cancel experiment\n",
    "# run.cancel()"
   ]
  },
  {
   "cell_type": "code",
   "execution_count": null,
   "metadata": {},
   "outputs": [],
   "source": [
    "# delete cpu compute\n",
    "\"\"\"\n",
    "mycompute = AmlCompute(workspace=ws, name='dw-cpu')\n",
    "mycompute.delete()\n",
    "\"\"\""
   ]
  },
  {
   "cell_type": "code",
   "execution_count": null,
   "metadata": {},
   "outputs": [],
   "source": [
    "# delete gpu compute\n",
    "mycompute = AmlCompute(workspace=ws, name='dw-gpu')\n",
    "mycompute.delete()"
   ]
  },
  {
   "cell_type": "code",
   "execution_count": 14,
   "metadata": {},
   "outputs": [],
   "source": [
    "# delete workspace\n",
    "ws.delete(delete_dependent_resources=True)"
   ]
  },
  {
   "cell_type": "code",
   "execution_count": null,
   "metadata": {},
   "outputs": [],
   "source": []
  }
 ],
 "metadata": {
  "kernelspec": {
   "display_name": "Python 3",
   "language": "python",
   "name": "python3"
  },
  "language_info": {
   "codemirror_mode": {
    "name": "ipython",
    "version": 3
   },
   "file_extension": ".py",
   "mimetype": "text/x-python",
   "name": "python",
   "nbconvert_exporter": "python",
   "pygments_lexer": "ipython3",
   "version": "3.6.8"
  }
 },
 "nbformat": 4,
 "nbformat_minor": 2
}
