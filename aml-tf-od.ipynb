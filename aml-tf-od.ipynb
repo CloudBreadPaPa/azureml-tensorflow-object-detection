{
 "cells": [
  {
   "cell_type": "code",
   "execution_count": null,
   "metadata": {},
   "outputs": [],
   "source": [
    "import azureml.core\n",
    "from azureml.core import Workspace\n",
    "print(azureml.core.VERSION)"
   ]
  },
  {
   "cell_type": "code",
   "execution_count": null,
   "metadata": {},
   "outputs": [],
   "source": [
    "import azureml.core\n",
    "print(\"SDK version:\", azureml.core.VERSION)"
   ]
  },
  {
   "cell_type": "code",
   "execution_count": null,
   "metadata": {},
   "outputs": [],
   "source": [
    "from azureml.telemetry import set_diagnostics_collection\n",
    "set_diagnostics_collection(send_diagnostics=True)"
   ]
  },
  {
   "cell_type": "code",
   "execution_count": null,
   "metadata": {},
   "outputs": [],
   "source": [
    "# notebook env value\n",
    "subscription_id = '<subscription id>'\n",
    "resource_group = '<resource group>'\n",
    "workspace_name = 'dw-ws'\n",
    "\n",
    "# create aml workspace or create it azure portal\n",
    "#https://docs.microsoft.com/en-us/python/api/overview/azure/ml/?view=azure-ml-py#workspace\n",
    "\n",
    "from azureml.core import Workspace\n",
    "ws = Workspace.create(name=workspace_name,\n",
    "                      subscription_id=subscription_id,\n",
    "                      resource_group=resource_group,\n",
    "                      create_resource_group=True,\n",
    "                      location='eastus2'\n",
    "                     )"
   ]
  },
  {
   "cell_type": "code",
   "execution_count": null,
   "metadata": {},
   "outputs": [],
   "source": [
    "# not using private ACR, using dockerhub public\n",
    "# for provate registry : https://docs.microsoft.com/en-us/azure/machine-learning/how-to-deploy-custom-docker-image\n",
    "\"\"\"\n",
    "acr_server = \"<ACRNAME>.azurecr.io\"\n",
    "acr_login = \"<ACRNAME>\"\n",
    "acr_pwd = \"<PWD>\"\n",
    "acr_repo_name = \"<REPO_NAME>\"\n",
    "\"\"\""
   ]
  },
  {
   "cell_type": "code",
   "execution_count": null,
   "metadata": {},
   "outputs": [],
   "source": [
    "from azureml.core import Workspace\n",
    "\n",
    "# setup workspace - reloading\n",
    "ws = Workspace.from_config()\n",
    "ws.get_details()"
   ]
  },
  {
   "cell_type": "code",
   "execution_count": null,
   "metadata": {},
   "outputs": [],
   "source": [
    "# setup datastore\n",
    "ds = ws.get_default_datastore()\n",
    "ds.name"
   ]
  },
  {
   "cell_type": "code",
   "execution_count": null,
   "metadata": {},
   "outputs": [],
   "source": [
    "# upload data folder to ds\n",
    "ds.upload(\n",
    "    src_dir='./upload_data',\n",
    "    target_path='tfdata',\n",
    "    overwrite=True)"
   ]
  },
  {
   "cell_type": "code",
   "execution_count": null,
   "metadata": {},
   "outputs": [],
   "source": [
    "\"\"\"\n",
    "# train remote VM - gpu\n",
    "from azureml.core.compute import AmlCompute, ComputeTarget\n",
    "from azureml.core.compute_target import ComputeTargetException\n",
    "\n",
    "try:\n",
    "    compute_target = ComputeTarget(workspace=ws, name='dw-gpu')\n",
    "    print('found existing:', compute_target.name)\n",
    "except ComputeTargetException:\n",
    "    print('creating new.')\n",
    "    compute_config = AmlCompute.provisioning_configuration(\n",
    "        vm_size='STANDARD_NC6',\n",
    "        min_nodes=0,\n",
    "        max_nodes=1)\n",
    "    compute_target = ComputeTarget.create(ws, 'dw-gpu', compute_config)\n",
    "    compute_target.wait_for_completion(show_output=True)\n",
    "\"\"\""
   ]
  },
  {
   "cell_type": "code",
   "execution_count": null,
   "metadata": {},
   "outputs": [],
   "source": [
    "# train remote VM - cpu\n",
    "from azureml.core.compute import AmlCompute, ComputeTarget\n",
    "from azureml.core.compute_target import ComputeTargetException\n",
    "\n",
    "try:\n",
    "    compute_target = ComputeTarget(workspace=ws, name='dw-cpu')\n",
    "    print('found existing:', compute_target.name)\n",
    "except ComputeTargetException:\n",
    "    print('creating new.')\n",
    "    compute_config = AmlCompute.provisioning_configuration(\n",
    "        vm_size='STANDARD_D3_V2',\n",
    "        min_nodes=0,\n",
    "        max_nodes=1)\n",
    "    compute_target = ComputeTarget.create(ws, 'dw-cpu', compute_config)\n",
    "    compute_target.wait_for_completion(show_output=True)\n"
   ]
  },
  {
   "cell_type": "code",
   "execution_count": null,
   "metadata": {},
   "outputs": [],
   "source": [
    "ds.container_name"
   ]
  },
  {
   "cell_type": "code",
   "execution_count": null,
   "metadata": {},
   "outputs": [],
   "source": [
    "# data reference\n",
    "from azureml.core import Datastore\n",
    "from azureml.core.runconfig import DataReferenceConfiguration\n",
    "\n",
    "ds = Datastore.get(ws, datastore_name=\"workspaceblobstore\")\n",
    "\n",
    "dr_conf = DataReferenceConfiguration(\n",
    "    datastore_name=ds.name,\n",
    "    path_on_datastore='tfdata',\n",
    "    #path_on_compute = '/tfdata'\n",
    "    mode='mount') # or 'download'"
   ]
  },
  {
   "cell_type": "code",
   "execution_count": null,
   "metadata": {},
   "outputs": [],
   "source": [
    "# check mount variable\n",
    "str(ds.as_mount())"
   ]
  },
  {
   "cell_type": "code",
   "execution_count": null,
   "metadata": {},
   "outputs": [],
   "source": [
    "# use estimator\n",
    "# https://github.com/Azure/MachineLearningNotebooks/blob/master/how-to-use-azureml/training-with-deep-learning/distributed-cntk-with-custom-docker/distributed-cntk-with-custom-docker.ipynb\n",
    "from azureml.train.estimator import Estimator\n",
    "\n",
    "params= {'--data_folder' : ds.as_mount() }\n",
    "\n",
    "estimator = Estimator(source_directory='script',\n",
    "                      compute_target=compute_target,\n",
    "                      entry_script='train.py',\n",
    "                      script_params=params,\n",
    "                      node_count=1,\n",
    "                      process_count_per_node=1,\n",
    "                      pip_requirements_file_path = '../docker/requirements.txt', # pip packages\n",
    "                      custom_docker_image='konan94/dw-tf-od:v8', # using public docker hub\n",
    "                      #custom_docker_image='konan94/dw-tf-od-gpu:v9', \n",
    "                      use_gpu=False)"
   ]
  },
  {
   "cell_type": "code",
   "execution_count": null,
   "metadata": {},
   "outputs": [],
   "source": [
    "from azureml.core import Experiment\n",
    "\n",
    "experiment_name = 'dw-exp'\n",
    "experiment = Experiment(ws, name=experiment_name)\n",
    "\n",
    "run = experiment.submit(estimator)\n",
    "print(run)\n",
    "run.wait_for_completion(show_output=True)"
   ]
  },
  {
   "cell_type": "code",
   "execution_count": null,
   "metadata": {},
   "outputs": [],
   "source": [
    "# delete cpu compute\n",
    "\"\"\"\n",
    "mycompute = AmlCompute(workspace=ws, name='dw-cpu')\n",
    "mycompute.delete()\n",
    "\n",
    "# delete gpu compute\n",
    "mycompute = AmlCompute(workspace=ws, name='dw-gpu')\n",
    "mycompute.delete()\n",
    "\"\"\""
   ]
  },
  {
   "cell_type": "code",
   "execution_count": null,
   "metadata": {},
   "outputs": [],
   "source": [
    "# delete workspace\n",
    "ws.delete(delete_dependent_resources=True)\n"
   ]
  }
 ],
 "metadata": {
  "kernelspec": {
   "display_name": "Python 3",
   "language": "python",
   "name": "python3"
  },
  "language_info": {
   "codemirror_mode": {
    "name": "ipython",
    "version": 3
   },
   "file_extension": ".py",
   "mimetype": "text/x-python",
   "name": "python",
   "nbconvert_exporter": "python",
   "pygments_lexer": "ipython3",
   "version": "3.6.10"
  }
 },
 "nbformat": 4,
 "nbformat_minor": 4
}
